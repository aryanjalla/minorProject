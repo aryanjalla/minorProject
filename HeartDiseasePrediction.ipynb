{
  "cells": [
    {
      "cell_type": "code",
      "execution_count": 1,
      "metadata": {
        "id": "colored-fetish"
      },
      "outputs": [],
      "source": [
        "import pandas as pd\n",
        "import numpy as np\n",
        "import matplotlib.pyplot as plt \n",
        "from sklearn.preprocessing import StandardScaler\n",
        "from sklearn.impute import SimpleImputer\n",
        "from sklearn.model_selection import train_test_split"
      ],
      "id": "colored-fetish"
    },
    {
      "cell_type": "code",
      "execution_count": 2,
      "metadata": {
        "colab": {
          "base_uri": "https://localhost:8080/"
        },
        "id": "uV-42KRVcOcN",
        "outputId": "e962726e-23a7-4c41-f3f6-1812055d89f6"
      },
      "outputs": [
        {
          "output_type": "stream",
          "name": "stdout",
          "text": [
            "Mounted at /content/drive\n"
          ]
        }
      ],
      "source": [
        "from google.colab import drive\n",
        "drive.mount('/content/drive')"
      ],
      "id": "uV-42KRVcOcN"
    },
    {
      "cell_type": "code",
      "execution_count": 3,
      "metadata": {
        "id": "injured-malta"
      },
      "outputs": [],
      "source": [
        "data = pd.read_csv(\"drive/MyDrive/HeartData/heartData.csv\")"
      ],
      "id": "injured-malta"
    },
    {
      "cell_type": "code",
      "execution_count": 4,
      "metadata": {
        "colab": {
          "base_uri": "https://localhost:8080/",
          "height": 206
        },
        "id": "imposed-logging",
        "outputId": "945f0152-39f1-467e-c47c-7351f502804c"
      },
      "outputs": [
        {
          "output_type": "execute_result",
          "data": {
            "text/plain": [
              "   male  age  education  currentSmoker  cigsPerDay  BPMeds  prevalentStroke  \\\n",
              "0     1   39        4.0              0         0.0     0.0                0   \n",
              "1     0   46        2.0              0         0.0     0.0                0   \n",
              "2     1   48        1.0              1        20.0     0.0                0   \n",
              "3     0   61        3.0              1        30.0     0.0                0   \n",
              "4     0   46        3.0              1        23.0     0.0                0   \n",
              "\n",
              "   prevalentHyp  diabetes  totChol  sysBP  diaBP    BMI  heartRate  glucose  \\\n",
              "0             0         0    195.0  106.0   70.0  26.97       80.0     77.0   \n",
              "1             0         0    250.0  121.0   81.0  28.73       95.0     76.0   \n",
              "2             0         0    245.0  127.5   80.0  25.34       75.0     70.0   \n",
              "3             1         0    225.0  150.0   95.0  28.58       65.0    103.0   \n",
              "4             0         0    285.0  130.0   84.0  23.10       85.0     85.0   \n",
              "\n",
              "   TenYearCHD  \n",
              "0           0  \n",
              "1           0  \n",
              "2           0  \n",
              "3           1  \n",
              "4           0  "
            ],
            "text/html": [
              "\n",
              "  <div id=\"df-47b5ea2a-354c-46a8-b13a-64d376b5d6dd\">\n",
              "    <div class=\"colab-df-container\">\n",
              "      <div>\n",
              "<style scoped>\n",
              "    .dataframe tbody tr th:only-of-type {\n",
              "        vertical-align: middle;\n",
              "    }\n",
              "\n",
              "    .dataframe tbody tr th {\n",
              "        vertical-align: top;\n",
              "    }\n",
              "\n",
              "    .dataframe thead th {\n",
              "        text-align: right;\n",
              "    }\n",
              "</style>\n",
              "<table border=\"1\" class=\"dataframe\">\n",
              "  <thead>\n",
              "    <tr style=\"text-align: right;\">\n",
              "      <th></th>\n",
              "      <th>male</th>\n",
              "      <th>age</th>\n",
              "      <th>education</th>\n",
              "      <th>currentSmoker</th>\n",
              "      <th>cigsPerDay</th>\n",
              "      <th>BPMeds</th>\n",
              "      <th>prevalentStroke</th>\n",
              "      <th>prevalentHyp</th>\n",
              "      <th>diabetes</th>\n",
              "      <th>totChol</th>\n",
              "      <th>sysBP</th>\n",
              "      <th>diaBP</th>\n",
              "      <th>BMI</th>\n",
              "      <th>heartRate</th>\n",
              "      <th>glucose</th>\n",
              "      <th>TenYearCHD</th>\n",
              "    </tr>\n",
              "  </thead>\n",
              "  <tbody>\n",
              "    <tr>\n",
              "      <th>0</th>\n",
              "      <td>1</td>\n",
              "      <td>39</td>\n",
              "      <td>4.0</td>\n",
              "      <td>0</td>\n",
              "      <td>0.0</td>\n",
              "      <td>0.0</td>\n",
              "      <td>0</td>\n",
              "      <td>0</td>\n",
              "      <td>0</td>\n",
              "      <td>195.0</td>\n",
              "      <td>106.0</td>\n",
              "      <td>70.0</td>\n",
              "      <td>26.97</td>\n",
              "      <td>80.0</td>\n",
              "      <td>77.0</td>\n",
              "      <td>0</td>\n",
              "    </tr>\n",
              "    <tr>\n",
              "      <th>1</th>\n",
              "      <td>0</td>\n",
              "      <td>46</td>\n",
              "      <td>2.0</td>\n",
              "      <td>0</td>\n",
              "      <td>0.0</td>\n",
              "      <td>0.0</td>\n",
              "      <td>0</td>\n",
              "      <td>0</td>\n",
              "      <td>0</td>\n",
              "      <td>250.0</td>\n",
              "      <td>121.0</td>\n",
              "      <td>81.0</td>\n",
              "      <td>28.73</td>\n",
              "      <td>95.0</td>\n",
              "      <td>76.0</td>\n",
              "      <td>0</td>\n",
              "    </tr>\n",
              "    <tr>\n",
              "      <th>2</th>\n",
              "      <td>1</td>\n",
              "      <td>48</td>\n",
              "      <td>1.0</td>\n",
              "      <td>1</td>\n",
              "      <td>20.0</td>\n",
              "      <td>0.0</td>\n",
              "      <td>0</td>\n",
              "      <td>0</td>\n",
              "      <td>0</td>\n",
              "      <td>245.0</td>\n",
              "      <td>127.5</td>\n",
              "      <td>80.0</td>\n",
              "      <td>25.34</td>\n",
              "      <td>75.0</td>\n",
              "      <td>70.0</td>\n",
              "      <td>0</td>\n",
              "    </tr>\n",
              "    <tr>\n",
              "      <th>3</th>\n",
              "      <td>0</td>\n",
              "      <td>61</td>\n",
              "      <td>3.0</td>\n",
              "      <td>1</td>\n",
              "      <td>30.0</td>\n",
              "      <td>0.0</td>\n",
              "      <td>0</td>\n",
              "      <td>1</td>\n",
              "      <td>0</td>\n",
              "      <td>225.0</td>\n",
              "      <td>150.0</td>\n",
              "      <td>95.0</td>\n",
              "      <td>28.58</td>\n",
              "      <td>65.0</td>\n",
              "      <td>103.0</td>\n",
              "      <td>1</td>\n",
              "    </tr>\n",
              "    <tr>\n",
              "      <th>4</th>\n",
              "      <td>0</td>\n",
              "      <td>46</td>\n",
              "      <td>3.0</td>\n",
              "      <td>1</td>\n",
              "      <td>23.0</td>\n",
              "      <td>0.0</td>\n",
              "      <td>0</td>\n",
              "      <td>0</td>\n",
              "      <td>0</td>\n",
              "      <td>285.0</td>\n",
              "      <td>130.0</td>\n",
              "      <td>84.0</td>\n",
              "      <td>23.10</td>\n",
              "      <td>85.0</td>\n",
              "      <td>85.0</td>\n",
              "      <td>0</td>\n",
              "    </tr>\n",
              "  </tbody>\n",
              "</table>\n",
              "</div>\n",
              "      <button class=\"colab-df-convert\" onclick=\"convertToInteractive('df-47b5ea2a-354c-46a8-b13a-64d376b5d6dd')\"\n",
              "              title=\"Convert this dataframe to an interactive table.\"\n",
              "              style=\"display:none;\">\n",
              "        \n",
              "  <svg xmlns=\"http://www.w3.org/2000/svg\" height=\"24px\"viewBox=\"0 0 24 24\"\n",
              "       width=\"24px\">\n",
              "    <path d=\"M0 0h24v24H0V0z\" fill=\"none\"/>\n",
              "    <path d=\"M18.56 5.44l.94 2.06.94-2.06 2.06-.94-2.06-.94-.94-2.06-.94 2.06-2.06.94zm-11 1L8.5 8.5l.94-2.06 2.06-.94-2.06-.94L8.5 2.5l-.94 2.06-2.06.94zm10 10l.94 2.06.94-2.06 2.06-.94-2.06-.94-.94-2.06-.94 2.06-2.06.94z\"/><path d=\"M17.41 7.96l-1.37-1.37c-.4-.4-.92-.59-1.43-.59-.52 0-1.04.2-1.43.59L10.3 9.45l-7.72 7.72c-.78.78-.78 2.05 0 2.83L4 21.41c.39.39.9.59 1.41.59.51 0 1.02-.2 1.41-.59l7.78-7.78 2.81-2.81c.8-.78.8-2.07 0-2.86zM5.41 20L4 18.59l7.72-7.72 1.47 1.35L5.41 20z\"/>\n",
              "  </svg>\n",
              "      </button>\n",
              "      \n",
              "  <style>\n",
              "    .colab-df-container {\n",
              "      display:flex;\n",
              "      flex-wrap:wrap;\n",
              "      gap: 12px;\n",
              "    }\n",
              "\n",
              "    .colab-df-convert {\n",
              "      background-color: #E8F0FE;\n",
              "      border: none;\n",
              "      border-radius: 50%;\n",
              "      cursor: pointer;\n",
              "      display: none;\n",
              "      fill: #1967D2;\n",
              "      height: 32px;\n",
              "      padding: 0 0 0 0;\n",
              "      width: 32px;\n",
              "    }\n",
              "\n",
              "    .colab-df-convert:hover {\n",
              "      background-color: #E2EBFA;\n",
              "      box-shadow: 0px 1px 2px rgba(60, 64, 67, 0.3), 0px 1px 3px 1px rgba(60, 64, 67, 0.15);\n",
              "      fill: #174EA6;\n",
              "    }\n",
              "\n",
              "    [theme=dark] .colab-df-convert {\n",
              "      background-color: #3B4455;\n",
              "      fill: #D2E3FC;\n",
              "    }\n",
              "\n",
              "    [theme=dark] .colab-df-convert:hover {\n",
              "      background-color: #434B5C;\n",
              "      box-shadow: 0px 1px 3px 1px rgba(0, 0, 0, 0.15);\n",
              "      filter: drop-shadow(0px 1px 2px rgba(0, 0, 0, 0.3));\n",
              "      fill: #FFFFFF;\n",
              "    }\n",
              "  </style>\n",
              "\n",
              "      <script>\n",
              "        const buttonEl =\n",
              "          document.querySelector('#df-47b5ea2a-354c-46a8-b13a-64d376b5d6dd button.colab-df-convert');\n",
              "        buttonEl.style.display =\n",
              "          google.colab.kernel.accessAllowed ? 'block' : 'none';\n",
              "\n",
              "        async function convertToInteractive(key) {\n",
              "          const element = document.querySelector('#df-47b5ea2a-354c-46a8-b13a-64d376b5d6dd');\n",
              "          const dataTable =\n",
              "            await google.colab.kernel.invokeFunction('convertToInteractive',\n",
              "                                                     [key], {});\n",
              "          if (!dataTable) return;\n",
              "\n",
              "          const docLinkHtml = 'Like what you see? Visit the ' +\n",
              "            '<a target=\"_blank\" href=https://colab.research.google.com/notebooks/data_table.ipynb>data table notebook</a>'\n",
              "            + ' to learn more about interactive tables.';\n",
              "          element.innerHTML = '';\n",
              "          dataTable['output_type'] = 'display_data';\n",
              "          await google.colab.output.renderOutput(dataTable, element);\n",
              "          const docLink = document.createElement('div');\n",
              "          docLink.innerHTML = docLinkHtml;\n",
              "          element.appendChild(docLink);\n",
              "        }\n",
              "      </script>\n",
              "    </div>\n",
              "  </div>\n",
              "  "
            ]
          },
          "metadata": {},
          "execution_count": 4
        }
      ],
      "source": [
        "data.head()"
      ],
      "id": "imposed-logging"
    },
    {
      "cell_type": "code",
      "execution_count": 5,
      "metadata": {
        "colab": {
          "base_uri": "https://localhost:8080/"
        },
        "id": "virtual-municipality",
        "outputId": "052ea430-3993-49fa-da06-ddff7d7d5f3e"
      },
      "outputs": [
        {
          "output_type": "execute_result",
          "data": {
            "text/plain": [
              "(4240, 16)"
            ]
          },
          "metadata": {},
          "execution_count": 5
        }
      ],
      "source": [
        "data.shape"
      ],
      "id": "virtual-municipality"
    },
    {
      "cell_type": "code",
      "execution_count": 6,
      "metadata": {
        "colab": {
          "base_uri": "https://localhost:8080/"
        },
        "id": "german-savings",
        "outputId": "e3727a0e-3c33-44f8-c5bb-4afa31c1a575"
      },
      "outputs": [
        {
          "output_type": "stream",
          "name": "stdout",
          "text": [
            "<class 'pandas.core.frame.DataFrame'>\n",
            "RangeIndex: 4240 entries, 0 to 4239\n",
            "Data columns (total 16 columns):\n",
            " #   Column           Non-Null Count  Dtype  \n",
            "---  ------           --------------  -----  \n",
            " 0   male             4240 non-null   int64  \n",
            " 1   age              4240 non-null   int64  \n",
            " 2   education        4135 non-null   float64\n",
            " 3   currentSmoker    4240 non-null   int64  \n",
            " 4   cigsPerDay       4211 non-null   float64\n",
            " 5   BPMeds           4187 non-null   float64\n",
            " 6   prevalentStroke  4240 non-null   int64  \n",
            " 7   prevalentHyp     4240 non-null   int64  \n",
            " 8   diabetes         4240 non-null   int64  \n",
            " 9   totChol          4190 non-null   float64\n",
            " 10  sysBP            4240 non-null   float64\n",
            " 11  diaBP            4240 non-null   float64\n",
            " 12  BMI              4221 non-null   float64\n",
            " 13  heartRate        4239 non-null   float64\n",
            " 14  glucose          3852 non-null   float64\n",
            " 15  TenYearCHD       4240 non-null   int64  \n",
            "dtypes: float64(9), int64(7)\n",
            "memory usage: 530.1 KB\n"
          ]
        }
      ],
      "source": [
        "data.info()"
      ],
      "id": "german-savings"
    },
    {
      "cell_type": "code",
      "execution_count": 7,
      "metadata": {
        "id": "alternative-advice"
      },
      "outputs": [],
      "source": [
        "data.dropna(axis=0, inplace=True)"
      ],
      "id": "alternative-advice"
    },
    {
      "cell_type": "code",
      "execution_count": 8,
      "metadata": {
        "colab": {
          "base_uri": "https://localhost:8080/"
        },
        "id": "comic-jurisdiction",
        "outputId": "4a54f8cf-df2d-406b-eb63-09d697488a79"
      },
      "outputs": [
        {
          "output_type": "execute_result",
          "data": {
            "text/plain": [
              "(3658, 16)"
            ]
          },
          "metadata": {},
          "execution_count": 8
        }
      ],
      "source": [
        "data.shape"
      ],
      "id": "comic-jurisdiction"
    },
    {
      "cell_type": "code",
      "execution_count": 9,
      "metadata": {
        "id": "three-empty"
      },
      "outputs": [],
      "source": [
        "X = data.drop(\"TenYearCHD\", axis=1)\n",
        "y = data[\"TenYearCHD\"]"
      ],
      "id": "three-empty"
    },
    {
      "cell_type": "code",
      "execution_count": 10,
      "metadata": {
        "id": "boring-tower"
      },
      "outputs": [],
      "source": [
        "X_train, X_test, y_train, y_test = train_test_split(X, y, test_size=0.20)"
      ],
      "id": "boring-tower"
    },
    {
      "cell_type": "code",
      "execution_count": 11,
      "metadata": {
        "colab": {
          "base_uri": "https://localhost:8080/",
          "height": 206
        },
        "id": "assisted-methodology",
        "outputId": "059c6baa-4dd2-4957-ece5-ee194f9cb70e"
      },
      "outputs": [
        {
          "output_type": "execute_result",
          "data": {
            "text/plain": [
              "      male  age  education  currentSmoker  cigsPerDay  BPMeds  \\\n",
              "704      1   58        1.0              1        20.0     0.0   \n",
              "2623     0   43        2.0              0         0.0     0.0   \n",
              "2194     1   42        3.0              1        43.0     0.0   \n",
              "2985     0   57        1.0              0         0.0     1.0   \n",
              "570      0   49        3.0              1         3.0     0.0   \n",
              "\n",
              "      prevalentStroke  prevalentHyp  diabetes  totChol  sysBP  diaBP    BMI  \\\n",
              "704                 0             0         0    251.0  135.0   85.5  21.24   \n",
              "2623                0             0         0    308.0  110.0   70.0  24.83   \n",
              "2194                0             1         0    272.0  128.0   83.0  33.26   \n",
              "2985                0             1         0    432.0  153.0   85.0  26.13   \n",
              "570                 0             0         0    247.0  121.0   82.0  29.07   \n",
              "\n",
              "      heartRate  glucose  \n",
              "704        88.0    103.0  \n",
              "2623       55.0     83.0  \n",
              "2194       80.0     63.0  \n",
              "2985       98.0     75.0  \n",
              "570        72.0     69.0  "
            ],
            "text/html": [
              "\n",
              "  <div id=\"df-dade3982-8e58-4cba-9c33-7b68add7511b\">\n",
              "    <div class=\"colab-df-container\">\n",
              "      <div>\n",
              "<style scoped>\n",
              "    .dataframe tbody tr th:only-of-type {\n",
              "        vertical-align: middle;\n",
              "    }\n",
              "\n",
              "    .dataframe tbody tr th {\n",
              "        vertical-align: top;\n",
              "    }\n",
              "\n",
              "    .dataframe thead th {\n",
              "        text-align: right;\n",
              "    }\n",
              "</style>\n",
              "<table border=\"1\" class=\"dataframe\">\n",
              "  <thead>\n",
              "    <tr style=\"text-align: right;\">\n",
              "      <th></th>\n",
              "      <th>male</th>\n",
              "      <th>age</th>\n",
              "      <th>education</th>\n",
              "      <th>currentSmoker</th>\n",
              "      <th>cigsPerDay</th>\n",
              "      <th>BPMeds</th>\n",
              "      <th>prevalentStroke</th>\n",
              "      <th>prevalentHyp</th>\n",
              "      <th>diabetes</th>\n",
              "      <th>totChol</th>\n",
              "      <th>sysBP</th>\n",
              "      <th>diaBP</th>\n",
              "      <th>BMI</th>\n",
              "      <th>heartRate</th>\n",
              "      <th>glucose</th>\n",
              "    </tr>\n",
              "  </thead>\n",
              "  <tbody>\n",
              "    <tr>\n",
              "      <th>704</th>\n",
              "      <td>1</td>\n",
              "      <td>58</td>\n",
              "      <td>1.0</td>\n",
              "      <td>1</td>\n",
              "      <td>20.0</td>\n",
              "      <td>0.0</td>\n",
              "      <td>0</td>\n",
              "      <td>0</td>\n",
              "      <td>0</td>\n",
              "      <td>251.0</td>\n",
              "      <td>135.0</td>\n",
              "      <td>85.5</td>\n",
              "      <td>21.24</td>\n",
              "      <td>88.0</td>\n",
              "      <td>103.0</td>\n",
              "    </tr>\n",
              "    <tr>\n",
              "      <th>2623</th>\n",
              "      <td>0</td>\n",
              "      <td>43</td>\n",
              "      <td>2.0</td>\n",
              "      <td>0</td>\n",
              "      <td>0.0</td>\n",
              "      <td>0.0</td>\n",
              "      <td>0</td>\n",
              "      <td>0</td>\n",
              "      <td>0</td>\n",
              "      <td>308.0</td>\n",
              "      <td>110.0</td>\n",
              "      <td>70.0</td>\n",
              "      <td>24.83</td>\n",
              "      <td>55.0</td>\n",
              "      <td>83.0</td>\n",
              "    </tr>\n",
              "    <tr>\n",
              "      <th>2194</th>\n",
              "      <td>1</td>\n",
              "      <td>42</td>\n",
              "      <td>3.0</td>\n",
              "      <td>1</td>\n",
              "      <td>43.0</td>\n",
              "      <td>0.0</td>\n",
              "      <td>0</td>\n",
              "      <td>1</td>\n",
              "      <td>0</td>\n",
              "      <td>272.0</td>\n",
              "      <td>128.0</td>\n",
              "      <td>83.0</td>\n",
              "      <td>33.26</td>\n",
              "      <td>80.0</td>\n",
              "      <td>63.0</td>\n",
              "    </tr>\n",
              "    <tr>\n",
              "      <th>2985</th>\n",
              "      <td>0</td>\n",
              "      <td>57</td>\n",
              "      <td>1.0</td>\n",
              "      <td>0</td>\n",
              "      <td>0.0</td>\n",
              "      <td>1.0</td>\n",
              "      <td>0</td>\n",
              "      <td>1</td>\n",
              "      <td>0</td>\n",
              "      <td>432.0</td>\n",
              "      <td>153.0</td>\n",
              "      <td>85.0</td>\n",
              "      <td>26.13</td>\n",
              "      <td>98.0</td>\n",
              "      <td>75.0</td>\n",
              "    </tr>\n",
              "    <tr>\n",
              "      <th>570</th>\n",
              "      <td>0</td>\n",
              "      <td>49</td>\n",
              "      <td>3.0</td>\n",
              "      <td>1</td>\n",
              "      <td>3.0</td>\n",
              "      <td>0.0</td>\n",
              "      <td>0</td>\n",
              "      <td>0</td>\n",
              "      <td>0</td>\n",
              "      <td>247.0</td>\n",
              "      <td>121.0</td>\n",
              "      <td>82.0</td>\n",
              "      <td>29.07</td>\n",
              "      <td>72.0</td>\n",
              "      <td>69.0</td>\n",
              "    </tr>\n",
              "  </tbody>\n",
              "</table>\n",
              "</div>\n",
              "      <button class=\"colab-df-convert\" onclick=\"convertToInteractive('df-dade3982-8e58-4cba-9c33-7b68add7511b')\"\n",
              "              title=\"Convert this dataframe to an interactive table.\"\n",
              "              style=\"display:none;\">\n",
              "        \n",
              "  <svg xmlns=\"http://www.w3.org/2000/svg\" height=\"24px\"viewBox=\"0 0 24 24\"\n",
              "       width=\"24px\">\n",
              "    <path d=\"M0 0h24v24H0V0z\" fill=\"none\"/>\n",
              "    <path d=\"M18.56 5.44l.94 2.06.94-2.06 2.06-.94-2.06-.94-.94-2.06-.94 2.06-2.06.94zm-11 1L8.5 8.5l.94-2.06 2.06-.94-2.06-.94L8.5 2.5l-.94 2.06-2.06.94zm10 10l.94 2.06.94-2.06 2.06-.94-2.06-.94-.94-2.06-.94 2.06-2.06.94z\"/><path d=\"M17.41 7.96l-1.37-1.37c-.4-.4-.92-.59-1.43-.59-.52 0-1.04.2-1.43.59L10.3 9.45l-7.72 7.72c-.78.78-.78 2.05 0 2.83L4 21.41c.39.39.9.59 1.41.59.51 0 1.02-.2 1.41-.59l7.78-7.78 2.81-2.81c.8-.78.8-2.07 0-2.86zM5.41 20L4 18.59l7.72-7.72 1.47 1.35L5.41 20z\"/>\n",
              "  </svg>\n",
              "      </button>\n",
              "      \n",
              "  <style>\n",
              "    .colab-df-container {\n",
              "      display:flex;\n",
              "      flex-wrap:wrap;\n",
              "      gap: 12px;\n",
              "    }\n",
              "\n",
              "    .colab-df-convert {\n",
              "      background-color: #E8F0FE;\n",
              "      border: none;\n",
              "      border-radius: 50%;\n",
              "      cursor: pointer;\n",
              "      display: none;\n",
              "      fill: #1967D2;\n",
              "      height: 32px;\n",
              "      padding: 0 0 0 0;\n",
              "      width: 32px;\n",
              "    }\n",
              "\n",
              "    .colab-df-convert:hover {\n",
              "      background-color: #E2EBFA;\n",
              "      box-shadow: 0px 1px 2px rgba(60, 64, 67, 0.3), 0px 1px 3px 1px rgba(60, 64, 67, 0.15);\n",
              "      fill: #174EA6;\n",
              "    }\n",
              "\n",
              "    [theme=dark] .colab-df-convert {\n",
              "      background-color: #3B4455;\n",
              "      fill: #D2E3FC;\n",
              "    }\n",
              "\n",
              "    [theme=dark] .colab-df-convert:hover {\n",
              "      background-color: #434B5C;\n",
              "      box-shadow: 0px 1px 3px 1px rgba(0, 0, 0, 0.15);\n",
              "      filter: drop-shadow(0px 1px 2px rgba(0, 0, 0, 0.3));\n",
              "      fill: #FFFFFF;\n",
              "    }\n",
              "  </style>\n",
              "\n",
              "      <script>\n",
              "        const buttonEl =\n",
              "          document.querySelector('#df-dade3982-8e58-4cba-9c33-7b68add7511b button.colab-df-convert');\n",
              "        buttonEl.style.display =\n",
              "          google.colab.kernel.accessAllowed ? 'block' : 'none';\n",
              "\n",
              "        async function convertToInteractive(key) {\n",
              "          const element = document.querySelector('#df-dade3982-8e58-4cba-9c33-7b68add7511b');\n",
              "          const dataTable =\n",
              "            await google.colab.kernel.invokeFunction('convertToInteractive',\n",
              "                                                     [key], {});\n",
              "          if (!dataTable) return;\n",
              "\n",
              "          const docLinkHtml = 'Like what you see? Visit the ' +\n",
              "            '<a target=\"_blank\" href=https://colab.research.google.com/notebooks/data_table.ipynb>data table notebook</a>'\n",
              "            + ' to learn more about interactive tables.';\n",
              "          element.innerHTML = '';\n",
              "          dataTable['output_type'] = 'display_data';\n",
              "          await google.colab.output.renderOutput(dataTable, element);\n",
              "          const docLink = document.createElement('div');\n",
              "          docLink.innerHTML = docLinkHtml;\n",
              "          element.appendChild(docLink);\n",
              "        }\n",
              "      </script>\n",
              "    </div>\n",
              "  </div>\n",
              "  "
            ]
          },
          "metadata": {},
          "execution_count": 11
        }
      ],
      "source": [
        "X_train.head()"
      ],
      "id": "assisted-methodology"
    },
    {
      "cell_type": "code",
      "execution_count": 12,
      "metadata": {
        "id": "charitable-official"
      },
      "outputs": [],
      "source": [
        "from sklearn.model_selection import StratifiedShuffleSplit"
      ],
      "id": "charitable-official"
    },
    {
      "cell_type": "code",
      "execution_count": 13,
      "metadata": {
        "id": "selective-address"
      },
      "outputs": [],
      "source": [
        "split = StratifiedShuffleSplit(n_splits=1, test_size=0.20, random_state=10)"
      ],
      "id": "selective-address"
    },
    {
      "cell_type": "code",
      "execution_count": 14,
      "metadata": {
        "id": "appropriate-endorsement"
      },
      "outputs": [],
      "source": [
        "for train_index, test_index in split.split(data, data[\"TenYearCHD\"]):\n",
        "    strat_train_set = data.iloc[train_index]\n",
        "    strat_test_set = data.iloc[test_index]"
      ],
      "id": "appropriate-endorsement"
    },
    {
      "cell_type": "code",
      "execution_count": 15,
      "metadata": {
        "colab": {
          "base_uri": "https://localhost:8080/"
        },
        "id": "minor-arizona",
        "outputId": "9d522f9c-dd4a-49d7-9164-9e77e9d6e58e"
      },
      "outputs": [
        {
          "output_type": "execute_result",
          "data": {
            "text/plain": [
              "0    0.848361\n",
              "1    0.151639\n",
              "Name: TenYearCHD, dtype: float64"
            ]
          },
          "metadata": {},
          "execution_count": 15
        }
      ],
      "source": [
        "strat_test_set[\"TenYearCHD\"].value_counts()/len(strat_test_set)"
      ],
      "id": "minor-arizona"
    },
    {
      "cell_type": "code",
      "execution_count": 16,
      "metadata": {
        "colab": {
          "base_uri": "https://localhost:8080/"
        },
        "id": "precious-length",
        "outputId": "b6b2d2e9-2d15-43b6-83f2-f2c5725c67e8"
      },
      "outputs": [
        {
          "output_type": "execute_result",
          "data": {
            "text/plain": [
              "0    0.847573\n",
              "1    0.152427\n",
              "Name: TenYearCHD, dtype: float64"
            ]
          },
          "metadata": {},
          "execution_count": 16
        }
      ],
      "source": [
        "strat_train_set[\"TenYearCHD\"].value_counts()/len(strat_train_set)"
      ],
      "id": "precious-length"
    },
    {
      "cell_type": "code",
      "execution_count": 17,
      "metadata": {
        "colab": {
          "base_uri": "https://localhost:8080/"
        },
        "id": "applied-anime",
        "outputId": "23e99cf9-84de-4eb0-ebe1-020fc41db161"
      },
      "outputs": [
        {
          "output_type": "stream",
          "name": "stdout",
          "text": [
            "(2926, 16)\n",
            "(732, 16)\n"
          ]
        }
      ],
      "source": [
        "print(strat_train_set.shape)\n",
        "print(strat_test_set.shape)"
      ],
      "id": "applied-anime"
    },
    {
      "cell_type": "code",
      "execution_count": 18,
      "metadata": {
        "id": "casual-baltimore"
      },
      "outputs": [],
      "source": [
        "from sklearn.svm import SVC\n",
        "from sklearn.metrics import f1_score\n",
        "from sklearn.model_selection import GridSearchCV\n",
        "from sklearn.metrics import accuracy_score"
      ],
      "id": "casual-baltimore"
    },
    {
      "cell_type": "code",
      "execution_count": 19,
      "metadata": {
        "id": "scientific-speech"
      },
      "outputs": [],
      "source": [
        "import seaborn as sns\n",
        "from sklearn.metrics import confusion_matrix"
      ],
      "id": "scientific-speech"
    },
    {
      "cell_type": "code",
      "execution_count": 20,
      "metadata": {
        "id": "veterinary-accreditation"
      },
      "outputs": [],
      "source": [
        "imp_features = [\"age\", \"totChol\", \"sysBP\", \"diaBP\", \"BMI\", \"heartRate\", \"glucose\", \"male\"]"
      ],
      "id": "veterinary-accreditation"
    },
    {
      "cell_type": "code",
      "execution_count": 21,
      "metadata": {
        "id": "yellow-quality"
      },
      "outputs": [],
      "source": [
        "X_train = strat_train_set.drop(\"TenYearCHD\", axis=1)\n",
        "y_train = strat_train_set[\"TenYearCHD\"]"
      ],
      "id": "yellow-quality"
    },
    {
      "cell_type": "code",
      "execution_count": 22,
      "metadata": {
        "id": "august-statement"
      },
      "outputs": [],
      "source": [
        "X_test = strat_test_set.drop(\"TenYearCHD\", axis=1)\n",
        "y_test = strat_test_set[\"TenYearCHD\"]"
      ],
      "id": "august-statement"
    },
    {
      "cell_type": "code",
      "execution_count": 23,
      "metadata": {
        "id": "fluid-marshall"
      },
      "outputs": [],
      "source": [
        "#grid search for optimum parameters\n",
        "Cs = [0.001, 0.01, 0.1, 1, 10]\n",
        "gammas = [0.001, 0.01, 0.1, 1]\n",
        "param_grid = {'C': Cs, 'gamma' : gammas}\n",
        "svm_clf = GridSearchCV(SVC(kernel='rbf', probability=True), param_grid, cv=10)"
      ],
      "id": "fluid-marshall"
    },
    {
      "cell_type": "code",
      "execution_count": null,
      "metadata": {
        "id": "beginning-probe"
      },
      "outputs": [],
      "source": [
        "svm_clf.fit(X_train,y_train)\n",
        "svm_clf.best_params_"
      ],
      "id": "beginning-probe"
    },
    {
      "cell_type": "code",
      "execution_count": null,
      "metadata": {
        "id": "alternate-thesaurus"
      },
      "outputs": [],
      "source": [],
      "id": "alternate-thesaurus"
    },
    {
      "cell_type": "code",
      "execution_count": null,
      "metadata": {
        "id": "exceptional-stocks"
      },
      "outputs": [],
      "source": [
        "svm_clf = SVC(C=10, gamma=1, probability=True)"
      ],
      "id": "exceptional-stocks"
    },
    {
      "cell_type": "code",
      "execution_count": null,
      "metadata": {
        "id": "angry-assistant"
      },
      "outputs": [],
      "source": [
        "svm_clf.fit(X_train, y_train)"
      ],
      "id": "angry-assistant"
    },
    {
      "cell_type": "code",
      "execution_count": null,
      "metadata": {
        "id": "vertical-flight"
      },
      "outputs": [],
      "source": [
        "p = svm_clf.predict(X_test)"
      ],
      "id": "vertical-flight"
    },
    {
      "cell_type": "code",
      "execution_count": null,
      "metadata": {
        "id": "biological-harris"
      },
      "outputs": [],
      "source": [
        "X_train_x = X_train[imp_features]"
      ],
      "id": "biological-harris"
    },
    {
      "cell_type": "code",
      "execution_count": null,
      "metadata": {
        "id": "intended-vegetarian"
      },
      "outputs": [],
      "source": [
        "X_test_x = X_test[imp_features]"
      ],
      "id": "intended-vegetarian"
    },
    {
      "cell_type": "code",
      "execution_count": null,
      "metadata": {
        "id": "adapted-siemens"
      },
      "outputs": [],
      "source": [
        "svm_clf_x = GridSearchCV(SVC(kernel='rbf', probability=True), param_grid, cv=10)"
      ],
      "id": "adapted-siemens"
    },
    {
      "cell_type": "code",
      "execution_count": null,
      "metadata": {
        "id": "restricted-pierce"
      },
      "outputs": [],
      "source": [
        "svm_clf_x.fit(X_train_x, y_train)\n",
        "svm_clf_x.best_params_"
      ],
      "id": "restricted-pierce"
    },
    {
      "cell_type": "code",
      "execution_count": null,
      "metadata": {
        "id": "treated-solid"
      },
      "outputs": [],
      "source": [
        "# predictions\n",
        "svm_predict = svm_clf.predict(X_test)\n",
        "svm_predict_x = svm_clf_x.predict(X_test_x)"
      ],
      "id": "treated-solid"
    },
    {
      "cell_type": "code",
      "execution_count": null,
      "metadata": {
        "id": "corporate-florida"
      },
      "outputs": [],
      "source": [
        "accuracy_score(y_test, svm_predict)"
      ],
      "id": "corporate-florida"
    },
    {
      "cell_type": "code",
      "execution_count": null,
      "metadata": {
        "id": "sublime-worse"
      },
      "outputs": [],
      "source": [
        "print(svm_predict.shape)\n",
        "print(svm_predict_x.shape)\n",
        "print(y_test.shape)"
      ],
      "id": "sublime-worse"
    },
    {
      "cell_type": "code",
      "execution_count": null,
      "metadata": {
        "id": "basic-inventory"
      },
      "outputs": [],
      "source": [
        "accuracy_score(y_test, svm_predict_x)"
      ],
      "id": "basic-inventory"
    },
    {
      "cell_type": "code",
      "execution_count": null,
      "metadata": {
        "id": "unavailable-hurricane"
      },
      "outputs": [],
      "source": [
        "cm=confusion_matrix(y_test,p)\n",
        "conf_matrix=pd.DataFrame(data=cm,columns=['Predicted:0','Predicted:1'],index=['Actual:0','Actual:1'])\n",
        "plt.figure(figsize = (8,5))\n",
        "sns.heatmap(conf_matrix, annot=True,fmt='d',cmap=\"YlGnBu\")"
      ],
      "id": "unavailable-hurricane"
    },
    {
      "cell_type": "code",
      "execution_count": null,
      "metadata": {
        "id": "thorough-analysis"
      },
      "outputs": [],
      "source": [
        "y_train.value_counts()"
      ],
      "id": "thorough-analysis"
    },
    {
      "cell_type": "code",
      "execution_count": null,
      "metadata": {
        "id": "remarkable-handling"
      },
      "outputs": [],
      "source": [
        "y_test.value_counts()"
      ],
      "id": "remarkable-handling"
    },
    {
      "cell_type": "markdown",
      "metadata": {
        "id": "electric-australian"
      },
      "source": [
        "### Scaling the data"
      ],
      "id": "electric-australian"
    },
    {
      "cell_type": "code",
      "execution_count": null,
      "metadata": {
        "id": "normal-calcium"
      },
      "outputs": [],
      "source": [
        "scaler = StandardScaler()\n",
        "\n",
        "X_train_scaled = scaler.fit_transform(X_train)\n",
        "X_train = pd.DataFrame(X_train_scaled)\n",
        "\n",
        "X_test_scaled = scaler.transform(X_test)\n",
        "X_test = pd.DataFrame(X_test_scaled)"
      ],
      "id": "normal-calcium"
    },
    {
      "cell_type": "code",
      "execution_count": null,
      "metadata": {
        "id": "bigger-mineral"
      },
      "outputs": [],
      "source": [
        "svm_clf = SVC(C=10, gamma=1, probability=True)"
      ],
      "id": "bigger-mineral"
    },
    {
      "cell_type": "code",
      "execution_count": null,
      "metadata": {
        "id": "necessary-apparel"
      },
      "outputs": [],
      "source": [
        "svm_clf.fit(X_train_scaled, y_train)"
      ],
      "id": "necessary-apparel"
    },
    {
      "cell_type": "code",
      "execution_count": null,
      "metadata": {
        "id": "ranging-monitoring"
      },
      "outputs": [],
      "source": [
        "pred = svm_clf.predict(X_test_scaled)"
      ],
      "id": "ranging-monitoring"
    },
    {
      "cell_type": "code",
      "execution_count": null,
      "metadata": {
        "id": "former-vehicle"
      },
      "outputs": [],
      "source": [
        "cm=confusion_matrix(y_test,pred)\n",
        "conf_matrix=pd.DataFrame(data=cm,columns=['Predicted:0','Predicted:1'],index=['Actual:0','Actual:1'])\n",
        "plt.figure(figsize = (8,5))\n",
        "sns.heatmap(conf_matrix, annot=True,fmt='d',cmap=\"YlGnBu\")"
      ],
      "id": "former-vehicle"
    },
    {
      "cell_type": "code",
      "execution_count": null,
      "metadata": {
        "id": "weekly-mobile"
      },
      "outputs": [],
      "source": [
        "scaler = StandardScaler()\n",
        "\n",
        "X_train_scaled = scaler.fit_transform(X_train_x)\n",
        "X_train = pd.DataFrame(X_train_scaled)\n",
        "\n",
        "X_test_scaled = scaler.transform(X_test_x)\n",
        "X_test = pd.DataFrame(X_test_scaled)"
      ],
      "id": "weekly-mobile"
    },
    {
      "cell_type": "code",
      "execution_count": null,
      "metadata": {
        "id": "vulnerable-termination"
      },
      "outputs": [],
      "source": [
        "svm_clf = SVC(C=10, gamma=2, probability=True)"
      ],
      "id": "vulnerable-termination"
    },
    {
      "cell_type": "code",
      "execution_count": null,
      "metadata": {
        "id": "massive-delivery"
      },
      "outputs": [],
      "source": [
        "svm_clf.fit(X_train, y_train)"
      ],
      "id": "massive-delivery"
    },
    {
      "cell_type": "code",
      "execution_count": null,
      "metadata": {
        "id": "normal-string"
      },
      "outputs": [],
      "source": [
        "pred = svm_clf.predict(X_test_scaled)"
      ],
      "id": "normal-string"
    },
    {
      "cell_type": "code",
      "execution_count": null,
      "metadata": {
        "id": "occupied-verse"
      },
      "outputs": [],
      "source": [
        "cm=confusion_matrix(y_test,pred)\n",
        "conf_matrix=pd.DataFrame(data=cm,columns=['Predicted:0','Predicted:1'],index=['Actual:0','Actual:1'])\n",
        "plt.figure(figsize = (8,5))\n",
        "sns.heatmap(conf_matrix, annot=True,fmt='d',cmap=\"YlGnBu\")"
      ],
      "id": "occupied-verse"
    },
    {
      "cell_type": "markdown",
      "metadata": {
        "id": "irish-county"
      },
      "source": [
        "### Removing Data Biasing i.e Balancing the data"
      ],
      "id": "irish-county"
    },
    {
      "cell_type": "code",
      "execution_count": null,
      "metadata": {
        "id": "radical-theater"
      },
      "outputs": [],
      "source": [
        "from imblearn.over_sampling import SMOTE\n",
        "from imblearn.under_sampling import RandomUnderSampler\n",
        "from imblearn.pipeline import Pipeline\n",
        "from collections import Counter"
      ],
      "id": "radical-theater"
    },
    {
      "cell_type": "code",
      "execution_count": null,
      "metadata": {
        "id": "afraid-mississippi"
      },
      "outputs": [],
      "source": [
        "data = data.dropna()"
      ],
      "id": "afraid-mississippi"
    },
    {
      "cell_type": "code",
      "execution_count": null,
      "metadata": {
        "id": "generic-score"
      },
      "outputs": [],
      "source": [
        "imp_features = [\"age\", \"totChol\", \"sysBP\", \"diaBP\", \"BMI\", \"heartRate\", \"glucose\", \"male\"]\n",
        "X = data[imp_features]\n",
        "y = data.iloc[:,-1]"
      ],
      "id": "generic-score"
    },
    {
      "cell_type": "code",
      "execution_count": null,
      "metadata": {
        "id": "alert-sarah"
      },
      "outputs": [],
      "source": [
        "# the numbers before smote\n",
        "num_before = dict(Counter(y))\n",
        "\n",
        "#perform smoting\n",
        "\n",
        "# define pipeline\n",
        "over = SMOTE(sampling_strategy=0.8)\n",
        "under = RandomUnderSampler(sampling_strategy=0.8)\n",
        "steps = [('o', over), ('u', under)]\n",
        "pipeline = Pipeline(steps=steps)\n",
        "\n",
        "# transform the dataset\n",
        "X_smote, y_smote = pipeline.fit_resample(X, y)\n",
        "\n",
        "\n",
        "#the numbers after smote\n",
        "num_after =dict(Counter(y_smote))"
      ],
      "id": "alert-sarah"
    },
    {
      "cell_type": "code",
      "execution_count": null,
      "metadata": {
        "id": "alpine-postcard"
      },
      "outputs": [],
      "source": [
        "print(num_before)"
      ],
      "id": "alpine-postcard"
    },
    {
      "cell_type": "code",
      "execution_count": null,
      "metadata": {
        "id": "healthy-robin"
      },
      "outputs": [],
      "source": [
        "print(num_after)"
      ],
      "id": "healthy-robin"
    },
    {
      "cell_type": "code",
      "execution_count": null,
      "metadata": {
        "id": "athletic-drain"
      },
      "outputs": [],
      "source": [
        "X_smote.head(1)"
      ],
      "id": "athletic-drain"
    },
    {
      "cell_type": "code",
      "execution_count": null,
      "metadata": {
        "id": "automotive-ready"
      },
      "outputs": [],
      "source": [
        "n_data = pd.concat([pd.DataFrame(X_smote), pd.DataFrame(y_smote)], axis=1)\n",
        "n_data.columns = [\"age\", \"totChol\", \"sysBP\", \"diaBP\", \"BMI\", \"heartRate\", \"glucose\", \"male\", \"TenYearCHD\"]\n",
        "n_data.head() \n"
      ],
      "id": "automotive-ready"
    },
    {
      "cell_type": "code",
      "execution_count": null,
      "metadata": {
        "id": "classical-calculator"
      },
      "outputs": [],
      "source": [
        "n_data[\"TenYearCHD\"].value_counts()"
      ],
      "id": "classical-calculator"
    },
    {
      "cell_type": "code",
      "execution_count": null,
      "metadata": {
        "id": "focal-communication"
      },
      "outputs": [],
      "source": [
        "X_n = n_data.drop(\"TenYearCHD\",axis=1)\n",
        "y_n = n_data[\"TenYearCHD\"]"
      ],
      "id": "focal-communication"
    },
    {
      "cell_type": "code",
      "execution_count": null,
      "metadata": {
        "id": "disabled-boutique"
      },
      "outputs": [],
      "source": [
        "X_train, X_test, y_train, y_test = train_test_split(X_n, y_n, test_size=0.2, random_state=10)"
      ],
      "id": "disabled-boutique"
    },
    {
      "cell_type": "code",
      "execution_count": null,
      "metadata": {
        "id": "acting-utilization"
      },
      "outputs": [],
      "source": [
        "scaler = StandardScaler()\n",
        "X_scaled_train = scaler.fit_transform(X_train)\n",
        "X_train = pd.DataFrame(X_scaled_train)"
      ],
      "id": "acting-utilization"
    },
    {
      "cell_type": "code",
      "execution_count": null,
      "metadata": {
        "id": "annual-blackberry"
      },
      "outputs": [],
      "source": [
        "X_scaled_test = scaler.transform(X_test)\n",
        "X_test = pd.DataFrame(X_scaled_test)"
      ],
      "id": "annual-blackberry"
    },
    {
      "cell_type": "code",
      "execution_count": null,
      "metadata": {
        "id": "individual-warehouse"
      },
      "outputs": [],
      "source": [
        "X_train.head(1)"
      ],
      "id": "individual-warehouse"
    },
    {
      "cell_type": "code",
      "execution_count": null,
      "metadata": {
        "id": "satisfied-rabbit"
      },
      "outputs": [],
      "source": [
        "X_test.head(1)"
      ],
      "id": "satisfied-rabbit"
    },
    {
      "cell_type": "code",
      "execution_count": null,
      "metadata": {
        "id": "lasting-booth"
      },
      "outputs": [],
      "source": [
        "#grid search for optimum parameters\n",
        "Cs = [0.001, 0.01, 0.1, 1, 10]\n",
        "gammas = [0.001, 0.01, 0.1, 1]\n",
        "param_grid = {'C': Cs, 'gamma' : gammas}\n",
        "svm_clf = GridSearchCV(SVC(kernel='rbf', probability=True), param_grid, cv=10)"
      ],
      "id": "lasting-booth"
    },
    {
      "cell_type": "code",
      "execution_count": null,
      "metadata": {
        "id": "junior-serial"
      },
      "outputs": [],
      "source": [
        "svm_clf.fit(X_train,y_train)\n",
        "svm_clf.best_params_"
      ],
      "id": "junior-serial"
    },
    {
      "cell_type": "code",
      "execution_count": null,
      "metadata": {
        "id": "young-physiology"
      },
      "outputs": [],
      "source": [
        "pred = svm_clf.predict(X_test)\n",
        "accuracy_score(y_test, pred)"
      ],
      "id": "young-physiology"
    },
    {
      "cell_type": "code",
      "execution_count": null,
      "metadata": {
        "id": "blocked-floating"
      },
      "outputs": [],
      "source": [
        "cm=confusion_matrix(y_test,pred)\n",
        "conf_matrix=pd.DataFrame(data=cm,columns=['Predicted:0','Predicted:1'],index=['Actual:0','Actual:1'])\n",
        "plt.figure(figsize = (8,5))\n",
        "sns.heatmap(conf_matrix, annot=True,fmt='d',cmap=\"YlGnBu\")"
      ],
      "id": "blocked-floating"
    },
    {
      "cell_type": "code",
      "execution_count": null,
      "metadata": {
        "id": "surprised-bridal"
      },
      "outputs": [],
      "source": [
        "svm_clf"
      ],
      "id": "surprised-bridal"
    },
    {
      "cell_type": "code",
      "execution_count": null,
      "metadata": {
        "id": "impossible-recruitment"
      },
      "outputs": [],
      "source": [
        "svm_clf_s = SVC(gamma=1, C=10, random_state=10)"
      ],
      "id": "impossible-recruitment"
    },
    {
      "cell_type": "code",
      "execution_count": null,
      "metadata": {
        "id": "ecological-legislature"
      },
      "outputs": [],
      "source": [
        "svm_clf_s.fit(X_train, y_train)"
      ],
      "id": "ecological-legislature"
    },
    {
      "cell_type": "code",
      "execution_count": null,
      "metadata": {
        "id": "peripheral-hotel"
      },
      "outputs": [],
      "source": [
        "pred_s = svm_clf.predict(X_test)"
      ],
      "id": "peripheral-hotel"
    },
    {
      "cell_type": "code",
      "execution_count": null,
      "metadata": {
        "id": "precise-blowing"
      },
      "outputs": [],
      "source": [
        "accuracy_score(y_test, pred_s)"
      ],
      "id": "precise-blowing"
    },
    {
      "cell_type": "code",
      "execution_count": null,
      "metadata": {
        "id": "hybrid-juice"
      },
      "outputs": [],
      "source": [
        "cm=confusion_matrix(y_test,pred_s)\n",
        "conf_matrix=pd.DataFrame(data=cm,columns=['Predicted:0','Predicted:1'],index=['Actual:0','Actual:1'])\n",
        "plt.figure(figsize = (8,5))\n",
        "sns.heatmap(conf_matrix, annot=True,fmt='d',cmap=\"YlGnBu\")"
      ],
      "id": "hybrid-juice"
    },
    {
      "cell_type": "code",
      "execution_count": null,
      "metadata": {
        "id": "premium-gallery"
      },
      "outputs": [],
      "source": [
        "f1_score(y_test, pred_s)"
      ],
      "id": "premium-gallery"
    },
    {
      "cell_type": "markdown",
      "metadata": {
        "id": "dated-knitting"
      },
      "source": [
        "### Saving the model"
      ],
      "id": "dated-knitting"
    },
    {
      "cell_type": "code",
      "execution_count": null,
      "metadata": {
        "id": "eligible-findings"
      },
      "outputs": [],
      "source": [
        "import pickle"
      ],
      "id": "eligible-findings"
    },
    {
      "cell_type": "code",
      "execution_count": null,
      "metadata": {
        "id": "cathedral-partner"
      },
      "outputs": [],
      "source": [
        "# save the model to disk\n",
        "filename = 'SVM_final.sav'\n",
        "pickle.dump(svm_clf_s, open(filename, 'wb'))"
      ],
      "id": "cathedral-partner"
    },
    {
      "cell_type": "code",
      "execution_count": null,
      "metadata": {
        "id": "balanced-dealing"
      },
      "outputs": [],
      "source": [
        "#\"age\", \"totChol\", \"sysBP\", \"diaBP\", \"BMI\", \"heartRate\", \"glucose\", \"male\", \"TenYearCHD\"\n",
        "i = [[61,225,150,95,28.58,65,103,0]]"
      ],
      "id": "balanced-dealing"
    },
    {
      "cell_type": "code",
      "execution_count": null,
      "metadata": {
        "id": "statistical-solid"
      },
      "outputs": [],
      "source": [
        "t = scaler.transform(i)"
      ],
      "id": "statistical-solid"
    },
    {
      "cell_type": "code",
      "execution_count": null,
      "metadata": {
        "id": "freelance-kitchen"
      },
      "outputs": [],
      "source": [
        "t"
      ],
      "id": "freelance-kitchen"
    },
    {
      "cell_type": "code",
      "execution_count": null,
      "metadata": {
        "id": "sonic-surveillance"
      },
      "outputs": [],
      "source": [
        "with open('SVM_final.sav', 'rb') as file:\n",
        "        heart = pickle.load(file)"
      ],
      "id": "sonic-surveillance"
    },
    {
      "cell_type": "code",
      "execution_count": null,
      "metadata": {
        "id": "indonesian-progress"
      },
      "outputs": [],
      "source": [
        "pred = heart.predict(t)"
      ],
      "id": "indonesian-progress"
    },
    {
      "cell_type": "code",
      "execution_count": null,
      "metadata": {
        "id": "preceding-castle"
      },
      "outputs": [],
      "source": [
        "pred"
      ],
      "id": "preceding-castle"
    },
    {
      "cell_type": "code",
      "execution_count": null,
      "metadata": {
        "id": "spectacular-methodology"
      },
      "outputs": [],
      "source": [
        "filename_s = 'Scaler.pkl'\n",
        "pickle.dump(scaler, open(filename_s, 'wb'))"
      ],
      "id": "spectacular-methodology"
    }
  ],
  "metadata": {
    "colab": {
      "provenance": []
    },
    "kernelspec": {
      "display_name": "Python 3",
      "language": "python",
      "name": "python3"
    },
    "language_info": {
      "codemirror_mode": {
        "name": "ipython",
        "version": 3
      },
      "file_extension": ".py",
      "mimetype": "text/x-python",
      "name": "python",
      "nbconvert_exporter": "python",
      "pygments_lexer": "ipython3",
      "version": "3.8.5"
    }
  },
  "nbformat": 4,
  "nbformat_minor": 5
}